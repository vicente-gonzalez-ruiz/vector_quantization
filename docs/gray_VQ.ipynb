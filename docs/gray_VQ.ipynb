{
 "cells": [
  {
   "cell_type": "markdown",
   "metadata": {},
   "source": [
    "[![Binder](https://mybinder.org/badge_logo.svg)](https://nbviewer.org/github/vicente-gonzalez-ruiz/vector_quantization/blob/main/docs/gray_VQ.ipynb)"
   ]
  },
  {
   "cell_type": "markdown",
   "metadata": {},
   "source": [
    "[![Colab](https://badgen.net/badge/Launch/on%20Google%20Colab/blue?icon=notebook)](https://colab.research.google.com/github/vicente-gonzalez-ruiz/vector_quantization/blob/main/docs/gray_VQ.ipynb)"
   ]
  },
  {
   "cell_type": "markdown",
   "metadata": {},
   "source": [
    "\n",
    "# Vector Quantization (in the 2D domain) of a gray-scale image\n",
    "\n",
    "We compute spatial VQ using [K-means](https://scikit-learn.org/stable/modules/generated/sklearn.cluster.KMeans.html#sklearn.cluster.KMeans)."
   ]
  },
  {
   "cell_type": "code",
   "execution_count": null,
   "metadata": {},
   "outputs": [],
   "source": [
    "try:\n",
    "    import matplotlib.pyplot as plt\n",
    "except:\n",
    "    !pip install matplotlib\n",
    "    import matplotlib\n",
    "    import matplotlib.pyplot as plt\n",
    "    import matplotlib.axes as ax\n",
    "    #plt.rcParams['text.usetex'] = True\n",
    "    #plt.rcParams['text.latex.preamble'] = [r'\\usepackage{amsmath}'] #for \\text command\n",
    "%matplotlib inline"
   ]
  },
  {
   "cell_type": "code",
   "execution_count": null,
   "metadata": {},
   "outputs": [],
   "source": [
    "try:\n",
    "    from sklearn.cluster import KMeans\n",
    "    from sklearn.utils import shuffle\n",
    "except:\n",
    "    !pip install scikit-learn\n",
    "    from sklearn.cluster import KMeans\n",
    "    from sklearn.utils import shuffle"
   ]
  },
  {
   "cell_type": "code",
   "execution_count": null,
   "metadata": {},
   "outputs": [],
   "source": [
    "try:\n",
    "    from skimage import io\n",
    "    from skimage.color import rgb2gray\n",
    "except:\n",
    "    !pip install scikit-image\n",
    "    from skimage import io\n",
    "    from skimage.color import rgb2gray"
   ]
  },
  {
   "cell_type": "code",
   "execution_count": null,
   "metadata": {},
   "outputs": [],
   "source": [
    "try:\n",
    "    import numpy as np\n",
    "except:\n",
    "    !pip install numpy\n",
    "    import numpy as np"
   ]
  },
  {
   "cell_type": "code",
   "execution_count": null,
   "metadata": {},
   "outputs": [],
   "source": [
    "try:\n",
    "    import pylab\n",
    "except:\n",
    "    !pip install pylab\n",
    "    import pylab"
   ]
  },
  {
   "cell_type": "code",
   "execution_count": null,
   "metadata": {},
   "outputs": [],
   "source": [
    "import math\n",
    "import os"
   ]
  },
  {
   "cell_type": "code",
   "execution_count": null,
   "metadata": {},
   "outputs": [],
   "source": [
    "try:\n",
    "    from information_theory.distortion import RMSE\n",
    "except:\n",
    "    !pip install \"information_theory @ git+https://github.com/vicente-gonzalez-ruiz/information_theory\"\n",
    "    from information_theory.distortion import RMSE"
   ]
  },
  {
   "cell_type": "markdown",
   "metadata": {},
   "source": [
    "## Configuration"
   ]
  },
  {
   "cell_type": "code",
   "execution_count": null,
   "metadata": {},
   "outputs": [],
   "source": [
    "fn = \"http://www.hpca.ual.es/~vruiz/images/lena.png\"\n",
    "block_width = 16\n",
    "block_height = 16\n",
    "n_clusters = 256  # Number of bins\n",
    "N_tries = 3  # Number of times K-means is run\n",
    "#range_of_N_bins = range(2, 256, 1)\n",
    "range_of_N_bins = [1<<i for i in range(1, 8)]"
   ]
  },
  {
   "cell_type": "markdown",
   "metadata": {},
   "source": [
    "## Read the image and show it"
   ]
  },
  {
   "cell_type": "code",
   "execution_count": null,
   "metadata": {},
   "outputs": [],
   "source": [
    "#img = gray_image.read(fn, 0)\n",
    "#gray_image.show(img, fn + \"000.png\")\n",
    "img = io.imread(fn)\n",
    "img = (rgb2gray(img)*256).astype(np.uint8)\n",
    "plt.figure()\n",
    "plt.title(fn)\n",
    "io.imshow(img)\n",
    "plt.show()"
   ]
  },
  {
   "cell_type": "markdown",
   "metadata": {},
   "source": [
    "## Example"
   ]
  },
  {
   "cell_type": "code",
   "execution_count": null,
   "metadata": {},
   "outputs": [],
   "source": [
    "block_length = block_width*block_height\n",
    "np.random.seed(seed=1)  # makes the random numbers predictable\n",
    "k_means = KMeans(init=\"k-means++\", n_clusters=n_clusters, n_init=N_tries)\n",
    "blocks = []\n",
    "for i in range(0, img.shape[0], block_width):\n",
    "    for j in range(0, img.shape[1], block_height):\n",
    "        blocks.append(np.reshape(img[i:i + block_width, j:j + block_height], block_length))\n",
    "blocks = np.asarray(blocks).astype(float)\n",
    "k_means.fit(blocks)\n",
    "centroids = k_means.cluster_centers_.squeeze().astype(np.uint8)  # the code-book\n",
    "labels = k_means.labels_  # Labels of the centroids\n",
    "\n",
    "labels = labels.reshape(img.shape[0]//block_height, img.shape[1]//block_width)\n",
    "img_dequantized = np.empty_like(img)\n",
    "for i in range(0, img.shape[0], block_width):\n",
    "    for j in range(0, img.shape[1], block_height):\n",
    "        img_dequantized[i:i + block_width, j:j + block_height] = centroids[labels[i//block_width,j//block_height]].reshape(block_height, block_width)"
   ]
  },
  {
   "cell_type": "code",
   "execution_count": null,
   "metadata": {},
   "outputs": [],
   "source": [
    "#gray_image.show(img_dequantized, \"Dequantized Image\")\n",
    "plt.figure()\n",
    "plt.title(\"Dequantized Image\")\n",
    "io.imshow(img_dequantized)\n",
    "plt.show()\n",
    "assert len(centroids) == n_clusters\n",
    "print(\"centroids =\\n\", centroids)\n",
    "bits_per_block = int(math.log(n_clusters)/math.log(2))\n",
    "print(f\"{len(centroids)} centroids ({bits_per_block} bits/block)\")\n",
    "blocks_in_y = img.shape[0]//block_height\n",
    "blocks_in_x = img.shape[1]//block_width\n",
    "print(f\"{blocks_in_y}x{blocks_in_x} blocks (vectors) in the image\")\n",
    "number_of_blocks = blocks_in_y*blocks_in_x\n",
    "total_number_of_bits = number_of_blocks*bits_per_block\n",
    "print(f\"total number of output bytes = {total_number_of_bits//8}\")"
   ]
  },
  {
   "cell_type": "markdown",
   "metadata": {},
   "source": [
    "## RD performance"
   ]
  },
  {
   "cell_type": "code",
   "execution_count": null,
   "metadata": {},
   "outputs": [],
   "source": [
    "def save(img, fn):\n",
    "    io.imsave(fn, img, check_contrast=False)\n",
    "    #subprocess.run(f\"optipng {fn}\", shell=True, capture_output=True)\n",
    "    required_bytes = os.path.getsize(fn)\n",
    "    print(f\"Written {required_bytes} bytes in {fn}\")\n",
    "    return required_bytes"
   ]
  },
  {
   "cell_type": "code",
   "execution_count": null,
   "metadata": {},
   "outputs": [],
   "source": [
    "def RD_curve(img, range_of_N_bins):\n",
    "    blocks = []\n",
    "    for i in range(0, img.shape[0], block_width):\n",
    "        for j in range(0, img.shape[1], block_height):\n",
    "            blocks.append(np.reshape(img[i:i + block_width, j:j + block_height], block_length))\n",
    "    blocks = np.asarray(blocks).astype(float)\n",
    "    points = []\n",
    "    for n in range_of_N_bins:\n",
    "        k_means = KMeans(init=\"k-means++\", n_clusters=n, n_init=N_tries)\n",
    "        k_means.fit(blocks)\n",
    "        centroids = k_means.cluster_centers_.squeeze().astype(np.uint8)\n",
    "        k = k_means.labels_.astype(np.uint8)  # bit-depth depends on number of bins! \n",
    "        k = k.reshape(img.shape[0]//block_height, img.shape[1]//block_width)\n",
    "        y = np.empty_like(img)\n",
    "        for i in range(0, img.shape[0], block_width):\n",
    "            for j in range(0, img.shape[1], block_height):\n",
    "                y[i:i + block_width, j:j + block_height] = centroids[k[i//block_width,j//block_height]].reshape(block_height, block_width)\n",
    "        print(\"Quantization indexes: \", np.unique(k))\n",
    "        #rate = gray_image.write(k, \"/tmp/\" + str(n) + '_', 0)*8/img.size\n",
    "        rate = save(k, \"/tmp/\" + str(n) + \".png\")*8/(k.shape[0]*k.shape[1])\n",
    "        distortion = RMSE(img, y)\n",
    "        #_distortion = distortion.RMSE(img, y)\n",
    "        if not n%10:\n",
    "            plt.title(f\"{n}\")\n",
    "            plt.imshow(y, cmap=plt.cm.gray, vmin=0, vmax=256)\n",
    "            plt.show()\n",
    "        points.append((rate, distortion))\n",
    "        print(f\"n={n:>3}, rate={rate:>7} bits/pixel, distortion={distortion:>6.1f}\")\n",
    "    return points"
   ]
  },
  {
   "cell_type": "code",
   "execution_count": null,
   "metadata": {
    "scrolled": true
   },
   "outputs": [],
   "source": [
    "RD_points = RD_curve(img, range_of_N_bins)"
   ]
  },
  {
   "cell_type": "code",
   "execution_count": null,
   "metadata": {},
   "outputs": [],
   "source": [
    "pylab.figure(dpi=150)\n",
    "#pylab.scatter(*zip(*RD_points), label=f\"VQ+PNG\", s=1, marker='.')\n",
    "pylab.plot(*zip(*RD_points), c='m', marker='x', label=f\"VQ(2D)+PNG\", linestyle=\"dotted\")\n",
    "pylab.title(f\"Rate/Distortion Performance\")\n",
    "pylab.xlabel(\"Bits/Pixel\")\n",
    "pylab.ylabel(\"RMSE\")\n",
    "pylab.legend(loc='upper right')\n",
    "pylab.show()"
   ]
  },
  {
   "cell_type": "code",
   "execution_count": null,
   "metadata": {},
   "outputs": [],
   "source": [
    "with open(f\"VQ_2D_RD_points.txt\", 'w') as f:\n",
    "    for item in RD_points:\n",
    "        f.write(f\"{item[0]}\\t{item[1]}\\n\")"
   ]
  },
  {
   "cell_type": "code",
   "execution_count": null,
   "metadata": {},
   "outputs": [],
   "source": [
    "input()"
   ]
  }
 ],
 "metadata": {
  "kernelspec": {
   "display_name": "Python 3 (ipykernel)",
   "language": "python",
   "name": "python3"
  },
  "language_info": {
   "codemirror_mode": {
    "name": "ipython",
    "version": 3
   },
   "file_extension": ".py",
   "mimetype": "text/x-python",
   "name": "python",
   "nbconvert_exporter": "python",
   "pygments_lexer": "ipython3",
   "version": "3.10.8"
  }
 },
 "nbformat": 4,
 "nbformat_minor": 1
}
