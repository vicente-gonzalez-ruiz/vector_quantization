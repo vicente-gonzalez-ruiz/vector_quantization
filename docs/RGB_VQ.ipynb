{
 "cells": [
  {
   "cell_type": "markdown",
   "id": "ac66d9ec",
   "metadata": {},
   "source": [
    "[![Binder](https://mybinder.org/badge_logo.svg)](https://nbviewer.org/github/vicente-gonzalez-ruiz/vector_quantization/blob/main/docs/RGB_VQ.ipynb)"
   ]
  },
  {
   "cell_type": "markdown",
   "id": "be92470a",
   "metadata": {},
   "source": [
    "[![Colab](https://badgen.net/badge/Launch/on%20Google%20Colab/blue?icon=notebook)](https://colab.research.google.com/github/vicente-gonzalez-ruiz/vector_quantization/blob/main/docs/RGB_VQ.ipynb)"
   ]
  },
  {
   "cell_type": "markdown",
   "id": "00163105",
   "metadata": {},
   "source": [
    "# [Vector Quantization (in the color domain) of a RGB image](https://scikit-learn.org/stable/auto_examples/cluster/plot_color_quantization.html#sphx-glr-auto-examples-cluster-plot-color-quantization-py)\n",
    "Color VQ using [K-means](https://scikit-learn.org/stable/modules/generated/sklearn.cluster.KMeans.html#sklearn.cluster.KMeans)."
   ]
  },
  {
   "cell_type": "code",
   "execution_count": null,
   "id": "3e26fee4",
   "metadata": {},
   "outputs": [],
   "source": [
    "try:\n",
    "    import matplotlib.pyplot as plt\n",
    "except:\n",
    "    !pip install matplotlib\n",
    "    import matplotlib\n",
    "    import matplotlib.pyplot as plt\n",
    "    import matplotlib.axes as ax\n",
    "    #plt.rcParams['text.usetex'] = True\n",
    "    #plt.rcParams['text.latex.preamble'] = [r'\\usepackage{amsmath}'] #for \\text command\n",
    "%matplotlib inline"
   ]
  },
  {
   "cell_type": "code",
   "execution_count": null,
   "id": "c64b1625",
   "metadata": {},
   "outputs": [],
   "source": [
    "try:\n",
    "    from sklearn.cluster import KMeans\n",
    "    from sklearn.utils import shuffle\n",
    "except:\n",
    "    !pip install scikit-learn\n",
    "    from sklearn.cluster import KMeans\n",
    "    from sklearn.utils import shuffle"
   ]
  },
  {
   "cell_type": "code",
   "execution_count": null,
   "id": "97495c93",
   "metadata": {},
   "outputs": [],
   "source": [
    "try:\n",
    "    from skimage import io\n",
    "    from skimage.color import rgb2gray\n",
    "except:\n",
    "    !pip install scikit-image\n",
    "    from skimage import io\n",
    "    from skimage.color import rgb2gray"
   ]
  },
  {
   "cell_type": "code",
   "execution_count": null,
   "id": "5ea6938b",
   "metadata": {},
   "outputs": [],
   "source": [
    "try:\n",
    "    import numpy as np\n",
    "except:\n",
    "    !pip install numpy\n",
    "    import numpy as np"
   ]
  },
  {
   "cell_type": "code",
   "execution_count": null,
   "id": "b441130b",
   "metadata": {},
   "outputs": [],
   "source": [
    "try:\n",
    "    import pylab\n",
    "except:\n",
    "    !pip install pylab\n",
    "    import pylab"
   ]
  },
  {
   "cell_type": "code",
   "execution_count": null,
   "id": "75801342",
   "metadata": {},
   "outputs": [],
   "source": [
    "import math\n",
    "import os"
   ]
  },
  {
   "cell_type": "code",
   "execution_count": null,
   "id": "50bf473e",
   "metadata": {},
   "outputs": [],
   "source": [
    "try:\n",
    "    import gzip\n",
    "except:\n",
    "    !pip install gzip\n",
    "    import gzip"
   ]
  },
  {
   "cell_type": "code",
   "execution_count": null,
   "id": "17049243",
   "metadata": {},
   "outputs": [],
   "source": [
    "try:\n",
    "    from information_theory.distortion import RMSE\n",
    "except:\n",
    "    !pip install \"information_theory @ git+https://github.com/vicente-gonzalez-ruiz/information_theory\"\n",
    "    from information_theory.distortion import RMSE"
   ]
  },
  {
   "cell_type": "markdown",
   "id": "ba188f24",
   "metadata": {},
   "source": [
    "import numpy as np\n",
    "from PIL import Image\n",
    "from matplotlib import pyplot as plt\n",
    "from sklearn.cluster import KMeans\n",
    "from sklearn.utils import shuffle\n",
    "import image_3 as RGB_image\n",
    "import image_1 as gray_image\n",
    "import distortion\n",
    "import information\n",
    "import os\n",
    "import pylab\n",
    "import gzip"
   ]
  },
  {
   "cell_type": "markdown",
   "id": "c6f75457",
   "metadata": {},
   "source": [
    "## Configuration"
   ]
  },
  {
   "cell_type": "code",
   "execution_count": null,
   "id": "9c957c63",
   "metadata": {},
   "outputs": [],
   "source": [
    "fn = \"http://www.hpca.ual.es/~vruiz/images/lena.png\"\n",
    "n_clusters = 256  # Number of bins\n",
    "range_of_N_bins = [1<<i for i in range(1, 8)]\n",
    "#gray_image.write = gray_image.debug_write # faster, but lower compression\n",
    "image_dtype = np.uint8 # For 8 bpp/component images\n",
    "#image_dtype = np.uint16 # For 16 bpp/component images\n",
    "\n",
    "##RGB_image.write = RGB_image.debug_write # Faster, but lower compression\n",
    "#RGB_image.write = information.write # The fastest, but returns only an estimation of the length\n",
    "##gray_image.write = gray_image.debug_write # Faster, but lower compression\n",
    "#gray_image.write = information.write # The fastest, but returns only an estimation of the length"
   ]
  },
  {
   "cell_type": "markdown",
   "id": "57df64bf",
   "metadata": {},
   "source": [
    "## Read the image and show it"
   ]
  },
  {
   "cell_type": "code",
   "execution_count": null,
   "id": "1a8134a0",
   "metadata": {},
   "outputs": [],
   "source": [
    "#RGB_img = RGB_image.read(fn).astype(image_dtype)\n",
    "#RGB_image.show(RGB_img, fn + \"000.png\")\n",
    "img = io.imread(fn)\n",
    "plt.figure()\n",
    "plt.title(fn)\n",
    "io.imshow(img)\n",
    "plt.show()"
   ]
  },
  {
   "cell_type": "markdown",
   "id": "a3bf0d10",
   "metadata": {},
   "source": [
    "## Example"
   ]
  },
  {
   "cell_type": "code",
   "execution_count": null,
   "id": "0edcb429",
   "metadata": {},
   "outputs": [],
   "source": [
    "# Create a K-means clustering tool\n",
    "normalized_img = np.array(img,dtype=np.float64) / 255\n",
    "w, h, d = shape_of_img = tuple(img.shape)\n",
    "img_reshaped = normalized_img.reshape((w*h, d))\n",
    "kmeans = KMeans(n_clusters=32, random_state=0)\n",
    "some_samples = shuffle(img_reshaped, random_state=0, n_samples=1_000)"
   ]
  },
  {
   "cell_type": "code",
   "execution_count": null,
   "id": "7da00e97",
   "metadata": {},
   "outputs": [],
   "source": [
    "# Find centroids in clusters (CPU intensive)\n",
    "kmeans.fit(some_samples)"
   ]
  },
  {
   "cell_type": "code",
   "execution_count": null,
   "id": "4d938d6e",
   "metadata": {},
   "outputs": [],
   "source": [
    "# Quantize\n",
    "centroids = kmeans.cluster_centers_\n",
    "labels = kmeans.predict(img_reshaped)\n",
    "img_dequantized = centroids[labels].reshape(w, h, -1)"
   ]
  },
  {
   "cell_type": "code",
   "execution_count": null,
   "id": "3934557a",
   "metadata": {},
   "outputs": [],
   "source": [
    "#RGB_image.show(VQ_img, \"Quantized Image using floating point pallete\")\n",
    "plt.figure()\n",
    "plt.title(\"Dequantized Image\")\n",
    "io.imshow(img_dequantized)\n",
    "plt.show()"
   ]
  },
  {
   "cell_type": "code",
   "execution_count": null,
   "id": "8c3dc942",
   "metadata": {},
   "outputs": [],
   "source": [
    "print(centroids)"
   ]
  },
  {
   "cell_type": "code",
   "execution_count": null,
   "id": "f8c96154",
   "metadata": {},
   "outputs": [],
   "source": [
    "centroids = (centroids * 255).astype(np.uint8)\n",
    "print(centroids)"
   ]
  },
  {
   "cell_type": "code",
   "execution_count": null,
   "id": "87913c71",
   "metadata": {},
   "outputs": [],
   "source": [
    "img_dequantized = centroids[labels].reshape(w, h, -1)"
   ]
  },
  {
   "cell_type": "code",
   "execution_count": null,
   "id": "9e2133f6",
   "metadata": {},
   "outputs": [],
   "source": [
    "#RGB_image.show(VQ_img, \"Quantized Image using integer pallete\")\n",
    "plt.figure()\n",
    "plt.title(\"Dequantized Image\")\n",
    "io.imshow(img_dequantized)\n",
    "plt.show()"
   ]
  },
  {
   "cell_type": "code",
   "execution_count": null,
   "id": "f96070cd",
   "metadata": {},
   "outputs": [],
   "source": [
    "with gzip.GzipFile(\"/tmp/codebook.npy.gz\", \"w\") as f:\n",
    "    np.save(file=f, arr=centroids)\n",
    "os.path.getsize(\"/tmp/codebook.npy.gz\")"
   ]
  },
  {
   "cell_type": "code",
   "execution_count": null,
   "id": "32f1f458",
   "metadata": {},
   "outputs": [],
   "source": [
    "with gzip.GzipFile(\"/tmp/codebook.npy.gz\", \"r\") as f:\n",
    "    centroids = np.load(f)\n",
    "print(centroids)"
   ]
  },
  {
   "cell_type": "markdown",
   "id": "a48681fa",
   "metadata": {},
   "source": [
    "## RD performance\n",
    "The code-book is considered in the computation of the bit-rate."
   ]
  },
  {
   "cell_type": "code",
   "execution_count": null,
   "id": "d4c1e178",
   "metadata": {},
   "outputs": [],
   "source": [
    "def save(img, fn):\n",
    "    io.imsave(fn, img, check_contrast=False)\n",
    "    #subprocess.run(f\"optipng {fn}\", shell=True, capture_output=True)\n",
    "    required_bytes = os.path.getsize(fn)\n",
    "    print(f\"Written {required_bytes} bytes in {fn}\")\n",
    "    return required_bytes"
   ]
  },
  {
   "cell_type": "code",
   "execution_count": null,
   "id": "da168171",
   "metadata": {},
   "outputs": [],
   "source": [
    "def RD_curve(img, range_of_N_bins):\n",
    "    normalized_img = np.array(img,dtype=np.float64) / 255\n",
    "    w, h, d = shape_of_img = tuple(img.shape)\n",
    "    img_reshaped = normalized_img.reshape((w*h, d))\n",
    "    points = []\n",
    "    for n in range_of_N_bins:\n",
    "        kmeans = KMeans(n_clusters=n, random_state=0)\n",
    "        some_samples = shuffle(img_reshaped, random_state=0, n_samples=1_000)\n",
    "        kmeans.fit(some_samples)\n",
    "        centroids = kmeans.cluster_centers_\n",
    "        labels = kmeans.predict(img_reshaped)\n",
    "        k = labels.astype(np.uint8) # Up to 256 bins\n",
    "        y = (centroids[k].reshape(w, h, -1) * 255).astype(np.uint8)\n",
    "        print(\"Quantization indexes: \", np.unique(k))\n",
    "        #rate = RGB_image.write(k, \"/tmp/\" + str(n) + '_', 0)*8/(img.shape[0]*img.shape[1])\n",
    "        print(k.shape)\n",
    "        rate = save(k.reshape((img.shape[0], img.shape[1])), \"/tmp/\" + str(n) + \".png\")*8/(img.shape[0]*img.shape[1])\n",
    "        print(img.size)\n",
    "        with gzip.GzipFile(\"/tmp/codebook.npy.gz\", \"w\") as f:\n",
    "            np.save(file=f, arr=centroids)\n",
    "        rate += (os.path.getsize(\"/tmp/codebook.npy.gz\")*8/(img.shape[0]*img.shape[1]))\n",
    "        #_distortion = distortion.RMSE(img, y)\n",
    "        distortion = RMSE(img, y)        \n",
    "        plt.title(f\"{n}\")\n",
    "        plt.imshow(y, cmap=plt.cm.gray, vmin=0, vmax=256)\n",
    "        plt.show()\n",
    "        points.append((rate, distortion))\n",
    "        print(f\"n={n:>3}, rate={rate:>7} bits/pixel, distortion={distortion:>6.1f}\")\n",
    "    return points"
   ]
  },
  {
   "cell_type": "code",
   "execution_count": null,
   "id": "1affe2c3",
   "metadata": {},
   "outputs": [],
   "source": [
    "RD_points = RD_curve(img, range_of_N_bins)"
   ]
  },
  {
   "cell_type": "code",
   "execution_count": null,
   "id": "bdeb0831",
   "metadata": {},
   "outputs": [],
   "source": [
    "#YCoCg_SQ = []\n",
    "#with open(f'../YCoCg_SQ/YCoCg_SQ.txt', 'r') as f:\n",
    "#    for line in f:\n",
    "#        BPP, RMSE = line.split('\\t')\n",
    "#        YCoCg_SQ.append((float(BPP), float(RMSE)))"
   ]
  },
  {
   "cell_type": "code",
   "execution_count": null,
   "id": "e4914870",
   "metadata": {},
   "outputs": [],
   "source": [
    "pylab.figure(dpi=150)\n",
    "#pylab.scatter(*zip(*RD_points), label=f\"VQ+PNG\", s=1, marker='.')\n",
    "#pylab.plot(*zip(*YCoCg_SQ), c='b', marker='o', label=\"Deadzone($\\mathbf{\\Delta}^{\\mathrm{Y}}_i = \\mathbf{\\Delta}^{\\mathrm{Co}}_i = \\mathbf{\\Delta}^{\\mathrm{Cg}}_i$)+PNG\", linestyle=\"dashed\")\n",
    "pylab.plot(*zip(*RD_points), c='m', marker='x', label=\"VQ($\\mathrm{RGB}$)+PNG\", linestyle=\"dotted\")\n",
    "pylab.title(fn)\n",
    "pylab.xlabel(\"Bits/Pixel\")\n",
    "pylab.ylabel(\"RMSE\")\n",
    "pylab.legend(loc='upper right')\n",
    "pylab.show()"
   ]
  },
  {
   "cell_type": "code",
   "execution_count": null,
   "id": "747c28b8",
   "metadata": {},
   "outputs": [],
   "source": [
    "#with open(f\"RGB_VQ.txt\", 'w') as f:\n",
    "#    for item in RD_points:\n",
    "#        f.write(f\"{item[0]}\\t{item[1]}\\n\")"
   ]
  },
  {
   "cell_type": "code",
   "execution_count": null,
   "id": "52084527",
   "metadata": {},
   "outputs": [],
   "source": [
    "input()"
   ]
  },
  {
   "cell_type": "markdown",
   "id": "d063f06b",
   "metadata": {},
   "source": [
    "## Ignore the rest ..."
   ]
  },
  {
   "cell_type": "markdown",
   "id": "66988981",
   "metadata": {},
   "source": [
    "## Compare to SQ"
   ]
  },
  {
   "cell_type": "code",
   "execution_count": null,
   "id": "a473bb39",
   "metadata": {},
   "outputs": [],
   "source": [
    "def load(path):\n",
    "    curve = []\n",
    "    with open(path, 'r') as f:\n",
    "        for line in f:\n",
    "            rate, _distortion = line.split('\\t')\n",
    "            curve.append((float(rate), float(_distortion)))\n",
    "    return curve"
   ]
  },
  {
   "cell_type": "code",
   "execution_count": null,
   "id": "9045ec45",
   "metadata": {},
   "outputs": [],
   "source": [
    "SQ_color = load(\"../RGB_SQ/RGB_SQ.txt\")"
   ]
  },
  {
   "cell_type": "code",
   "execution_count": null,
   "id": "8e159cd7",
   "metadata": {},
   "outputs": [],
   "source": [
    "pylab.figure(dpi=150)\n",
    "pylab.plot(*zip(*RD_points), c='m', marker='x', label=\"VQ\", linestyle=\"dotted\")\n",
    "pylab.plot(*zip(*SQ_color), c='k', marker='x', label=\"SQ\", linestyle=\"dotted\")\n",
    "pylab.title(fn)\n",
    "pylab.xlabel(\"Bits/Pixel\")\n",
    "pylab.ylabel(\"RMSE\")\n",
    "pylab.legend(loc='upper right')\n",
    "#pylab.xscale(\"log\")\n",
    "#pylab.yscale(\"log\")\n",
    "pylab.show()"
   ]
  },
  {
   "cell_type": "code",
   "execution_count": null,
   "id": "4e66a9e1",
   "metadata": {},
   "outputs": [],
   "source": [
    "import time\n",
    "while True:\n",
    "    time.sleep(1)"
   ]
  },
  {
   "cell_type": "code",
   "execution_count": null,
   "id": "055503f7",
   "metadata": {},
   "outputs": [],
   "source": [
    "if 'google.colab' in str(get_ipython()):\n",
    "    %run ./deadzone.ipynb\n",
    "    deadzone_RD = load(\"./dead-zone_RD_points.txt\")\n",
    "    print(\"loaded ./dead-zone_RD_points.txt\")\n",
    "elif not os.path.exists(\"../scalar_quantization/dead-zone_RD_points.txt\"):\n",
    "    %run ../scalar_quantization/deadzone.ipynb\n",
    "    deadzone_RD = load(\"../scalar_quantization/dead-zone_RD_points.txt\")\n",
    "    print(\"loaded ../scalar_quantization/dead-zone_RD_points.txt after regenerating the file\")\n",
    "else:\n",
    "    deadzone_RD = load(\"../scalar_quantization/dead-zone_RD_points.txt\")\n",
    "    print(\"loaded ../scalar_quantization/dead-zone_RD_points.txt without regenerating the file\")"
   ]
  }
 ],
 "metadata": {
  "kernelspec": {
   "display_name": "Python 3 (ipykernel)",
   "language": "python",
   "name": "python3"
  },
  "language_info": {
   "codemirror_mode": {
    "name": "ipython",
    "version": 3
   },
   "file_extension": ".py",
   "mimetype": "text/x-python",
   "name": "python",
   "nbconvert_exporter": "python",
   "pygments_lexer": "ipython3",
   "version": "3.10.8"
  }
 },
 "nbformat": 4,
 "nbformat_minor": 5
}
